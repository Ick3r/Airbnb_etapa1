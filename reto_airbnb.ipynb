{
 "cells": [
  {
   "cell_type": "code",
   "execution_count": 1,
   "metadata": {},
   "outputs": [],
   "source": [
    "#Carga de librerias \n",
    "import pandas as pd\n",
    "import numpy as np\n",
    "import matplotlib.pyplot as plt\n",
    "import statistics as mode"
   ]
  },
  {
   "cell_type": "code",
   "execution_count": 3,
   "metadata": {},
   "outputs": [
    {
     "data": {
      "text/html": [
       "<div>\n",
       "<style scoped>\n",
       "    .dataframe tbody tr th:only-of-type {\n",
       "        vertical-align: middle;\n",
       "    }\n",
       "\n",
       "    .dataframe tbody tr th {\n",
       "        vertical-align: top;\n",
       "    }\n",
       "\n",
       "    .dataframe thead th {\n",
       "        text-align: right;\n",
       "    }\n",
       "</style>\n",
       "<table border=\"1\" class=\"dataframe\">\n",
       "  <thead>\n",
       "    <tr style=\"text-align: right;\">\n",
       "      <th></th>\n",
       "      <th>id</th>\n",
       "      <th>name</th>\n",
       "      <th>host_id</th>\n",
       "      <th>host_name</th>\n",
       "      <th>neighbourhood_group</th>\n",
       "      <th>neighbourhood</th>\n",
       "      <th>latitude</th>\n",
       "      <th>longitude</th>\n",
       "      <th>room_type</th>\n",
       "      <th>price</th>\n",
       "      <th>minimum_nights</th>\n",
       "      <th>number_of_reviews</th>\n",
       "      <th>last_review</th>\n",
       "      <th>reviews_per_month</th>\n",
       "      <th>calculated_host_listings_count</th>\n",
       "      <th>availability_365</th>\n",
       "      <th>number_of_reviews_ltm</th>\n",
       "    </tr>\n",
       "  </thead>\n",
       "  <tbody>\n",
       "    <tr>\n",
       "      <th>0</th>\n",
       "      <td>8.266910e+05</td>\n",
       "      <td>Suite 7 - Suites Condesa Mexico</td>\n",
       "      <td>4326326</td>\n",
       "      <td>Rodrigo</td>\n",
       "      <td>NaN</td>\n",
       "      <td>CuauhtÃ©moc</td>\n",
       "      <td>19.409150</td>\n",
       "      <td>-99.173210</td>\n",
       "      <td>Entire home/apt</td>\n",
       "      <td>850.0</td>\n",
       "      <td>180.0</td>\n",
       "      <td>18.0</td>\n",
       "      <td>11/05/2019</td>\n",
       "      <td>0.17</td>\n",
       "      <td>6.0</td>\n",
       "      <td>325.0</td>\n",
       "      <td>0.0</td>\n",
       "    </tr>\n",
       "    <tr>\n",
       "      <th>1</th>\n",
       "      <td>3.579700e+04</td>\n",
       "      <td>Villa Dante</td>\n",
       "      <td>153786</td>\n",
       "      <td>Dici</td>\n",
       "      <td>NaN</td>\n",
       "      <td>Cuajimalpa de Morelos</td>\n",
       "      <td>19.382830</td>\n",
       "      <td>-99.271780</td>\n",
       "      <td>Entire home/apt</td>\n",
       "      <td>4056.0</td>\n",
       "      <td>1.0</td>\n",
       "      <td>0.0</td>\n",
       "      <td>NaN</td>\n",
       "      <td>NaN</td>\n",
       "      <td>1.0</td>\n",
       "      <td>363.0</td>\n",
       "      <td>0.0</td>\n",
       "    </tr>\n",
       "    <tr>\n",
       "      <th>2</th>\n",
       "      <td>5.239058e+07</td>\n",
       "      <td>Casa en privada con  vigilancia, estacionamiento.</td>\n",
       "      <td>424060909</td>\n",
       "      <td>Maria Carmen Marta</td>\n",
       "      <td>NaN</td>\n",
       "      <td>Cuajimalpa de Morelos</td>\n",
       "      <td>19.395126</td>\n",
       "      <td>-99.277374</td>\n",
       "      <td>Private room</td>\n",
       "      <td>752.0</td>\n",
       "      <td>1.0</td>\n",
       "      <td>0.0</td>\n",
       "      <td>NaN</td>\n",
       "      <td>NaN</td>\n",
       "      <td>1.0</td>\n",
       "      <td>365.0</td>\n",
       "      <td>0.0</td>\n",
       "    </tr>\n",
       "    <tr>\n",
       "      <th>3</th>\n",
       "      <td>8.267600e+05</td>\n",
       "      <td>Suite 12 - Suites Condesa Mexico</td>\n",
       "      <td>4326326</td>\n",
       "      <td>Rodrigo</td>\n",
       "      <td>NaN</td>\n",
       "      <td>CuauhtÃ©moc</td>\n",
       "      <td>19.409150</td>\n",
       "      <td>-99.173210</td>\n",
       "      <td>Entire home/apt</td>\n",
       "      <td>971.0</td>\n",
       "      <td>4.0</td>\n",
       "      <td>17.0</td>\n",
       "      <td>15/03/2020</td>\n",
       "      <td>0.15</td>\n",
       "      <td>6.0</td>\n",
       "      <td>203.0</td>\n",
       "      <td>0.0</td>\n",
       "    </tr>\n",
       "    <tr>\n",
       "      <th>4</th>\n",
       "      <td>4.461600e+04</td>\n",
       "      <td>CONDESA HAUS  B&amp;B</td>\n",
       "      <td>196253</td>\n",
       "      <td>Condesa Haus Bed &amp; Breakfast  CDMX</td>\n",
       "      <td>NaN</td>\n",
       "      <td>CuauhtÃ©moc</td>\n",
       "      <td>19.411620</td>\n",
       "      <td>-99.177940</td>\n",
       "      <td>Entire home/apt</td>\n",
       "      <td>18000.0</td>\n",
       "      <td>1.0</td>\n",
       "      <td>56.0</td>\n",
       "      <td>05/06/2022</td>\n",
       "      <td>0.43</td>\n",
       "      <td>11.0</td>\n",
       "      <td>347.0</td>\n",
       "      <td>7.0</td>\n",
       "    </tr>\n",
       "    <tr>\n",
       "      <th>...</th>\n",
       "      <td>...</td>\n",
       "      <td>...</td>\n",
       "      <td>...</td>\n",
       "      <td>...</td>\n",
       "      <td>...</td>\n",
       "      <td>...</td>\n",
       "      <td>...</td>\n",
       "      <td>...</td>\n",
       "      <td>...</td>\n",
       "      <td>...</td>\n",
       "      <td>...</td>\n",
       "      <td>...</td>\n",
       "      <td>...</td>\n",
       "      <td>...</td>\n",
       "      <td>...</td>\n",
       "      <td>...</td>\n",
       "      <td>...</td>\n",
       "    </tr>\n",
       "    <tr>\n",
       "      <th>21664</th>\n",
       "      <td>6.180000e+17</td>\n",
       "      <td>CÃ³modo Departamento en Satelite-Echegaray con...</td>\n",
       "      <td>442065952</td>\n",
       "      <td>Ricardo</td>\n",
       "      <td>NaN</td>\n",
       "      <td>Azcapotzalco</td>\n",
       "      <td>19.499980</td>\n",
       "      <td>-99.226010</td>\n",
       "      <td>Entire home/apt</td>\n",
       "      <td>673.0</td>\n",
       "      <td>1.0</td>\n",
       "      <td>3.0</td>\n",
       "      <td>29/05/2022</td>\n",
       "      <td>2.73</td>\n",
       "      <td>79.0</td>\n",
       "      <td>NaN</td>\n",
       "      <td>3.0</td>\n",
       "    </tr>\n",
       "    <tr>\n",
       "      <th>21665</th>\n",
       "      <td>2.210710e+07</td>\n",
       "      <td>GREAT &amp; cozy flat in Satelite</td>\n",
       "      <td>387195495</td>\n",
       "      <td>Daniela</td>\n",
       "      <td>NaN</td>\n",
       "      <td>Azcapotzalco</td>\n",
       "      <td>119.507870</td>\n",
       "      <td>-99.220670</td>\n",
       "      <td>Entire home/apt</td>\n",
       "      <td>897.0</td>\n",
       "      <td>2.0</td>\n",
       "      <td>107.0</td>\n",
       "      <td>07/02/2022</td>\n",
       "      <td>1.97</td>\n",
       "      <td>11.0</td>\n",
       "      <td>314.0</td>\n",
       "      <td>17.0</td>\n",
       "    </tr>\n",
       "    <tr>\n",
       "      <th>21666</th>\n",
       "      <td>4.061781e+07</td>\n",
       "      <td>Blanca</td>\n",
       "      <td>96471106</td>\n",
       "      <td>Mary Carmen</td>\n",
       "      <td>NaN</td>\n",
       "      <td>Azcapotzalco</td>\n",
       "      <td>19.507530</td>\n",
       "      <td>-99.225060</td>\n",
       "      <td>Entire home/apt</td>\n",
       "      <td>230.0</td>\n",
       "      <td>1.0</td>\n",
       "      <td>5.0</td>\n",
       "      <td>31/12/2019</td>\n",
       "      <td>0.16</td>\n",
       "      <td>4.0</td>\n",
       "      <td>140.0</td>\n",
       "      <td>0.0</td>\n",
       "    </tr>\n",
       "    <tr>\n",
       "      <th>21667</th>\n",
       "      <td>5.700000e+17</td>\n",
       "      <td>Casa LimÃ³n. Confort y seguridad</td>\n",
       "      <td>30446640</td>\n",
       "      <td>Ericka</td>\n",
       "      <td>NaN</td>\n",
       "      <td>Azcapotzalco</td>\n",
       "      <td>19.493360</td>\n",
       "      <td>-99.229090</td>\n",
       "      <td>Entire home/apt</td>\n",
       "      <td>690.0</td>\n",
       "      <td>3.0</td>\n",
       "      <td>0.0</td>\n",
       "      <td>NaN</td>\n",
       "      <td>NaN</td>\n",
       "      <td>1.0</td>\n",
       "      <td>354.0</td>\n",
       "      <td>0.0</td>\n",
       "    </tr>\n",
       "    <tr>\n",
       "      <th>21668</th>\n",
       "      <td>3.717560e+07</td>\n",
       "      <td>Linda casa con enorme jardÃ­n en zona residenc...</td>\n",
       "      <td>51907431</td>\n",
       "      <td>Cecilia</td>\n",
       "      <td>NaN</td>\n",
       "      <td>Azcapotzalco</td>\n",
       "      <td>19.490040</td>\n",
       "      <td>-99.230310</td>\n",
       "      <td>Entire home/apt</td>\n",
       "      <td>3228.0</td>\n",
       "      <td>2.0</td>\n",
       "      <td>58.0</td>\n",
       "      <td>13/06/2022</td>\n",
       "      <td>1.66</td>\n",
       "      <td>1.0</td>\n",
       "      <td>10.0</td>\n",
       "      <td>20.0</td>\n",
       "    </tr>\n",
       "  </tbody>\n",
       "</table>\n",
       "<p>21669 rows × 17 columns</p>\n",
       "</div>"
      ],
      "text/plain": [
       "                 id                                               name  \\\n",
       "0      8.266910e+05                    Suite 7 - Suites Condesa Mexico   \n",
       "1      3.579700e+04                                        Villa Dante   \n",
       "2      5.239058e+07  Casa en privada con  vigilancia, estacionamiento.   \n",
       "3      8.267600e+05                   Suite 12 - Suites Condesa Mexico   \n",
       "4      4.461600e+04                                  CONDESA HAUS  B&B   \n",
       "...             ...                                                ...   \n",
       "21664  6.180000e+17  CÃ³modo Departamento en Satelite-Echegaray con...   \n",
       "21665  2.210710e+07                      GREAT & cozy flat in Satelite   \n",
       "21666  4.061781e+07                                             Blanca   \n",
       "21667  5.700000e+17                   Casa LimÃ³n. Confort y seguridad   \n",
       "21668  3.717560e+07  Linda casa con enorme jardÃ­n en zona residenc...   \n",
       "\n",
       "         host_id                           host_name  neighbourhood_group  \\\n",
       "0        4326326                             Rodrigo                  NaN   \n",
       "1         153786                                Dici                  NaN   \n",
       "2      424060909                  Maria Carmen Marta                  NaN   \n",
       "3        4326326                             Rodrigo                  NaN   \n",
       "4         196253  Condesa Haus Bed & Breakfast  CDMX                  NaN   \n",
       "...          ...                                 ...                  ...   \n",
       "21664  442065952                             Ricardo                  NaN   \n",
       "21665  387195495                             Daniela                  NaN   \n",
       "21666   96471106                         Mary Carmen                  NaN   \n",
       "21667   30446640                              Ericka                  NaN   \n",
       "21668   51907431                             Cecilia                  NaN   \n",
       "\n",
       "               neighbourhood    latitude  longitude        room_type    price  \\\n",
       "0                CuauhtÃ©moc   19.409150 -99.173210  Entire home/apt    850.0   \n",
       "1      Cuajimalpa de Morelos   19.382830 -99.271780  Entire home/apt   4056.0   \n",
       "2      Cuajimalpa de Morelos   19.395126 -99.277374     Private room    752.0   \n",
       "3                CuauhtÃ©moc   19.409150 -99.173210  Entire home/apt    971.0   \n",
       "4                CuauhtÃ©moc   19.411620 -99.177940  Entire home/apt  18000.0   \n",
       "...                      ...         ...        ...              ...      ...   \n",
       "21664           Azcapotzalco   19.499980 -99.226010  Entire home/apt    673.0   \n",
       "21665           Azcapotzalco  119.507870 -99.220670  Entire home/apt    897.0   \n",
       "21666           Azcapotzalco   19.507530 -99.225060  Entire home/apt    230.0   \n",
       "21667           Azcapotzalco   19.493360 -99.229090  Entire home/apt    690.0   \n",
       "21668           Azcapotzalco   19.490040 -99.230310  Entire home/apt   3228.0   \n",
       "\n",
       "       minimum_nights  number_of_reviews last_review  reviews_per_month  \\\n",
       "0               180.0               18.0  11/05/2019               0.17   \n",
       "1                 1.0                0.0         NaN                NaN   \n",
       "2                 1.0                0.0         NaN                NaN   \n",
       "3                 4.0               17.0  15/03/2020               0.15   \n",
       "4                 1.0               56.0  05/06/2022               0.43   \n",
       "...               ...                ...         ...                ...   \n",
       "21664             1.0                3.0  29/05/2022               2.73   \n",
       "21665             2.0              107.0  07/02/2022               1.97   \n",
       "21666             1.0                5.0  31/12/2019               0.16   \n",
       "21667             3.0                0.0         NaN                NaN   \n",
       "21668             2.0               58.0  13/06/2022               1.66   \n",
       "\n",
       "       calculated_host_listings_count  availability_365  number_of_reviews_ltm  \n",
       "0                                 6.0             325.0                    0.0  \n",
       "1                                 1.0             363.0                    0.0  \n",
       "2                                 1.0             365.0                    0.0  \n",
       "3                                 6.0             203.0                    0.0  \n",
       "4                                11.0             347.0                    7.0  \n",
       "...                               ...               ...                    ...  \n",
       "21664                            79.0               NaN                    3.0  \n",
       "21665                            11.0             314.0                   17.0  \n",
       "21666                             4.0             140.0                    0.0  \n",
       "21667                             1.0             354.0                    0.0  \n",
       "21668                             1.0              10.0                   20.0  \n",
       "\n",
       "[21669 rows x 17 columns]"
      ]
     },
     "execution_count": 3,
     "metadata": {},
     "output_type": "execute_result"
    }
   ],
   "source": [
    "#Carga de archivo CSV\n",
    "data= pd.read_csv(\"airbnb.csv\", encoding= 'ISO-8859-1')\n",
    "data"
   ]
  },
  {
   "cell_type": "code",
   "execution_count": null,
   "metadata": {},
   "outputs": [],
   "source": [
    "#Identificación de valores nulos\n",
    "null=data.isnull(). sum()\n",
    "null"
   ]
  },
  {
   "cell_type": "code",
   "execution_count": 5,
   "metadata": {},
   "outputs": [],
   "source": [
    "data2= data.copy()"
   ]
  },
  {
   "cell_type": "markdown",
   "metadata": {},
   "source": [
    "3. APLICAR LOS SIGUIENTES MÉTODOS PARA REEMPLAZAR VALORES NULOS EN CADA COLUMNA:"
   ]
  },
  {
   "cell_type": "code",
   "execution_count": 6,
   "metadata": {},
   "outputs": [],
   "source": [
    "#“host_name”: Rellenar con el objeto \"anterior\" de la columna\n",
    "data2[\"host_name\"]= data2[\"host_name\"].fillna(method='bfill')\n",
    "\n",
    "#“neighbourhood”: Rellenar con el objeto \"posterior\" de la columna\n",
    "data2[\"neighbourhood\"]= data2[\"neighbourhood\"].fillna(method='ffill')\n",
    "\n",
    "#“neighbourhood”: Rellenar con el objeto \"posterior\" de la columna\n",
    "data2[\"neighbourhood_group\"]= data2[\"neighbourhood_group\"].fillna('Desconocido')\n",
    "\n",
    "#“latitude”: Rellenar con el valor de “Media” de la columna\n",
    "data2[\"latitude\"]=data2[\"latitude\"].fillna(round(data2[\"latitude\"].mean(),1))\n",
    "\n",
    "#“longitude”: Rellenar con el valor de “Mediana” de la columna\n",
    "data2[\"longitude\"]=data2[\"longitude\"].fillna(round(data2[\"longitude\"].median(),1))\n",
    "\n",
    "#“room_type”: Rellenar con el string “Private room”\n",
    "data2['room_type']=data2['room_type'].fillna('Private room')\n",
    "\n",
    "#“price”: Rellenar con el valor de “Media” de la columna\n",
    "data2[\"price\"]=data2[\"price\"].fillna(round(data2[\"price\"].mean(),1))\n",
    "\n",
    "#“minimum_nights”: Rellenar con el valor de “1”\n",
    "data2['minimum_nights']=data2['minimum_nights'].fillna(1)\n",
    "\n",
    "#\"number_of_reviews\": Rellenar con el valor de “0”\n",
    "data2['number_of_reviews']=data2['number_of_reviews'].fillna(0)\n",
    "\n",
    "#\"last_review\":Rellenar con el objeto \"31/12/2022\" de la columna\n",
    "data2[\"last_review\"]=data2[\"last_review\"].fillna('31/12/2022')\n",
    "\n",
    "#\"reviews_per_month\": Rellenar con el valor de “Media” de la columna\n",
    "data2[\"reviews_per_month\"]=data2[\"reviews_per_month\"].fillna(round(data2[\"reviews_per_month\"].mean(),1))\n",
    "\n",
    "#\"calculated_host_listings_count\": Rellenar con el valor de “1”\n",
    "data2['calculated_host_listings_count']=data2['calculated_host_listings_count'].fillna(1)\n",
    "\n",
    "#\"availability_365\" y \"number of reviews ltm\": Rellenar con el objeto \"anterior\" de cada columna, respectivamente.\n",
    "data2[\"availability_365\"]= data2[\"availability_365\"].fillna(method='bfill')\n",
    "\n",
    "data2[\"number_of_reviews_ltm\"]= data2[\"number_of_reviews_ltm\"].fillna(method='bfill')"
   ]
  },
  {
   "cell_type": "code",
   "execution_count": null,
   "metadata": {},
   "outputs": [],
   "source": [
    "#Identificación de valores nulos\n",
    "null=data2.isnull(). sum()\n",
    "null"
   ]
  },
  {
   "cell_type": "markdown",
   "metadata": {},
   "source": [
    "4. APLICAR MÉTODO DE DISTRIBUCIÓN NORMAL PARA IDENTIFICAR OUTLIERS, TOMANDO COMO LÍMITES 3 DESVIACIONES ESTÁNDAR, EXCULSIVAMENTE PARA LAS COLUMNAS 'latitude', 'longitude', 'price', 'minimum_nigths', 'number_of_reviews', 'reviews_per month' Y 'availability_365'.\n",
    "OBTENER LOS DIAGRAMAS DE CAJA DE CAJA COLUMNA RESPECTIVAMENTE."
   ]
  },
  {
   "cell_type": "code",
   "execution_count": 8,
   "metadata": {},
   "outputs": [],
   "source": [
    "#Creación de una copia para la base de datos\n",
    "copia = data2.copy()"
   ]
  },
  {
   "cell_type": "markdown",
   "metadata": {},
   "source": [
    "LATITUDE"
   ]
  },
  {
   "cell_type": "code",
   "execution_count": 9,
   "metadata": {},
   "outputs": [
    {
     "name": "stdout",
     "output_type": "stream",
     "text": [
      "Limite superior permitido 22.0250088466136\n",
      "Limite inferior permitido 16.795011725586317\n"
     ]
    }
   ],
   "source": [
    "#Aplicar método de distribución normal para identificar Outliers, tomando como límites 3\n",
    "#desviaciones estándar, exclusivamente para la columna “latitude\"\n",
    "reto2=copia[\"latitude\"]\n",
    "limitesuperior=reto2.mean()+3*reto2.std()\n",
    "limiteinferior=reto2.mean()-3*reto2.std()\n",
    "print(\"Limite superior permitido\",limitesuperior)\n",
    "print(\"Limite inferior permitido\",limiteinferior)"
   ]
  },
  {
   "cell_type": "code",
   "execution_count": 10,
   "metadata": {},
   "outputs": [
    {
     "data": {
      "text/html": [
       "<div>\n",
       "<style scoped>\n",
       "    .dataframe tbody tr th:only-of-type {\n",
       "        vertical-align: middle;\n",
       "    }\n",
       "\n",
       "    .dataframe tbody tr th {\n",
       "        vertical-align: top;\n",
       "    }\n",
       "\n",
       "    .dataframe thead th {\n",
       "        text-align: right;\n",
       "    }\n",
       "</style>\n",
       "<table border=\"1\" class=\"dataframe\">\n",
       "  <thead>\n",
       "    <tr style=\"text-align: right;\">\n",
       "      <th></th>\n",
       "      <th>id</th>\n",
       "      <th>name</th>\n",
       "      <th>host_id</th>\n",
       "      <th>host_name</th>\n",
       "      <th>neighbourhood_group</th>\n",
       "      <th>neighbourhood</th>\n",
       "      <th>latitude</th>\n",
       "      <th>longitude</th>\n",
       "      <th>room_type</th>\n",
       "      <th>price</th>\n",
       "      <th>minimum_nights</th>\n",
       "      <th>number_of_reviews</th>\n",
       "      <th>last_review</th>\n",
       "      <th>reviews_per_month</th>\n",
       "      <th>calculated_host_listings_count</th>\n",
       "      <th>availability_365</th>\n",
       "      <th>number_of_reviews_ltm</th>\n",
       "    </tr>\n",
       "  </thead>\n",
       "  <tbody>\n",
       "    <tr>\n",
       "      <th>12741</th>\n",
       "      <td>46757982.0</td>\n",
       "      <td>Residencia Master Suite con Terraza</td>\n",
       "      <td>375169008</td>\n",
       "      <td>Residencias</td>\n",
       "      <td>Desconocido</td>\n",
       "      <td>Benito JuÃ¡rez</td>\n",
       "      <td>99.39291</td>\n",
       "      <td>-99.17623</td>\n",
       "      <td>Entire home/apt</td>\n",
       "      <td>3678.0</td>\n",
       "      <td>2.0</td>\n",
       "      <td>0.0</td>\n",
       "      <td>31/12/2022</td>\n",
       "      <td>1.60</td>\n",
       "      <td>25.0</td>\n",
       "      <td>337.0</td>\n",
       "      <td>0.0</td>\n",
       "    </tr>\n",
       "    <tr>\n",
       "      <th>21665</th>\n",
       "      <td>22107097.0</td>\n",
       "      <td>GREAT &amp; cozy flat in Satelite</td>\n",
       "      <td>387195495</td>\n",
       "      <td>Daniela</td>\n",
       "      <td>Desconocido</td>\n",
       "      <td>Azcapotzalco</td>\n",
       "      <td>119.50787</td>\n",
       "      <td>-99.22067</td>\n",
       "      <td>Entire home/apt</td>\n",
       "      <td>897.0</td>\n",
       "      <td>2.0</td>\n",
       "      <td>107.0</td>\n",
       "      <td>07/02/2022</td>\n",
       "      <td>1.97</td>\n",
       "      <td>11.0</td>\n",
       "      <td>314.0</td>\n",
       "      <td>17.0</td>\n",
       "    </tr>\n",
       "  </tbody>\n",
       "</table>\n",
       "</div>"
      ],
      "text/plain": [
       "               id                                 name    host_id  \\\n",
       "12741  46757982.0  Residencia Master Suite con Terraza  375169008   \n",
       "21665  22107097.0        GREAT & cozy flat in Satelite  387195495   \n",
       "\n",
       "         host_name neighbourhood_group   neighbourhood   latitude  longitude  \\\n",
       "12741  Residencias         Desconocido  Benito JuÃ¡rez   99.39291  -99.17623   \n",
       "21665      Daniela         Desconocido    Azcapotzalco  119.50787  -99.22067   \n",
       "\n",
       "             room_type   price  minimum_nights  number_of_reviews last_review  \\\n",
       "12741  Entire home/apt  3678.0             2.0                0.0  31/12/2022   \n",
       "21665  Entire home/apt   897.0             2.0              107.0  07/02/2022   \n",
       "\n",
       "       reviews_per_month  calculated_host_listings_count  availability_365  \\\n",
       "12741               1.60                            25.0             337.0   \n",
       "21665               1.97                            11.0             314.0   \n",
       "\n",
       "       number_of_reviews_ltm  \n",
       "12741                    0.0  \n",
       "21665                   17.0  "
      ]
     },
     "execution_count": 10,
     "metadata": {},
     "output_type": "execute_result"
    }
   ],
   "source": [
    "#Identificación de Outliers\n",
    "outliers_latitude= copia [(reto2>limitesuperior) | (reto2<limiteinferior)]\n",
    "outliers_latitude"
   ]
  },
  {
   "cell_type": "code",
   "execution_count": null,
   "metadata": {},
   "outputs": [],
   "source": [
    "#Diagrama de caja: latitude.\n",
    "fig1 = plt.figure(figsize =(5, 3))\n",
    "plt.boxplot(copia[\"latitude\"]) \n",
    "plt.title(\"Outliers de latitude\")\n",
    "plt.show() #diagrama para visualizar outliers"
   ]
  },
  {
   "cell_type": "markdown",
   "metadata": {},
   "source": [
    "LONGITUDE"
   ]
  },
  {
   "cell_type": "code",
   "execution_count": 12,
   "metadata": {},
   "outputs": [
    {
     "name": "stdout",
     "output_type": "stream",
     "text": [
      "Limite superior permitido -89.00097389354517\n",
      "Limite inferior permitido -109.32865504999904\n"
     ]
    }
   ],
   "source": [
    "#Aplicar método de distribución normal para identificar Outliers, tomando como límites 3\n",
    "#desviaciones estándar, exclusivamente para la columna \"longitude\"\n",
    "r3=copia[\"longitude\"]\n",
    "limitesuperior2=r3.mean()+3*r3.std()\n",
    "limiteinferior2=r3.mean()-3*r3.std()\n",
    "print(\"Limite superior permitido\",limitesuperior2)\n",
    "print(\"Limite inferior permitido\",limiteinferior2)"
   ]
  },
  {
   "cell_type": "code",
   "execution_count": null,
   "metadata": {},
   "outputs": [],
   "source": [
    "#Identificación de Outliers\n",
    "outliers_longitude= copia [(r3>limitesuperior2) | (r3<limiteinferior2)]\n",
    "outliers_longitude\n"
   ]
  },
  {
   "cell_type": "code",
   "execution_count": null,
   "metadata": {},
   "outputs": [],
   "source": [
    "#Diagrama de caja: latitude.\n",
    "fig1 = plt.figure(figsize =(5, 3))\n",
    "plt.boxplot(copia[\"longitude\"]) \n",
    "plt.title(\"Outliers de longitude\")\n",
    "plt.show() #diagrama para visualizar outliers"
   ]
  },
  {
   "cell_type": "markdown",
   "metadata": {},
   "source": [
    "PRICE"
   ]
  },
  {
   "cell_type": "code",
   "execution_count": 15,
   "metadata": {},
   "outputs": [
    {
     "name": "stdout",
     "output_type": "stream",
     "text": [
      "Limite superior permitido 34057.78312578311\n",
      "Limite inferior permitido -31156.8169990583\n"
     ]
    }
   ],
   "source": [
    "#Aplicar método de distribución normal para identificar Outliers, tomando como límites 3\n",
    "#desviaciones estándar, exclusivamente para la columna \"price\"\n",
    "r4=copia[\"price\"]\n",
    "limitesuperior3=r4.mean()+4*r4.std()\n",
    "limiteinferior3=r4.mean()-4*r4.std()\n",
    "print(\"Limite superior permitido\",limitesuperior3)\n",
    "print(\"Limite inferior permitido\",limiteinferior3)"
   ]
  },
  {
   "cell_type": "code",
   "execution_count": null,
   "metadata": {},
   "outputs": [],
   "source": [
    "#Identificación de Outliers\n",
    "outliers_price= copia [(r4>limitesuperior3) | (r4<limiteinferior3)]\n",
    "outliers_price"
   ]
  },
  {
   "cell_type": "code",
   "execution_count": null,
   "metadata": {},
   "outputs": [],
   "source": [
    "#Diagrama de caja: latitude.\n",
    "fig1 = plt.figure(figsize =(5, 3))\n",
    "plt.boxplot(copia[\"price\"]) \n",
    "plt.title(\"Outliers de price\")\n",
    "plt.show() #diagrama para visualizar outliers"
   ]
  },
  {
   "cell_type": "markdown",
   "metadata": {},
   "source": [
    "MINIMUM NIGHTS"
   ]
  },
  {
   "cell_type": "code",
   "execution_count": 18,
   "metadata": {},
   "outputs": [
    {
     "name": "stdout",
     "output_type": "stream",
     "text": [
      "Limite superior permitido 112.09524573978166\n",
      "Limite inferior permitido -102.41265771080018\n"
     ]
    }
   ],
   "source": [
    "#Aplicar método de distribución normal para identificar Outliers, tomando como límites 3\n",
    "#desviaciones estándar, exclusivamente para la columna \"minimum_nights\"\n",
    "r5=copia[\"minimum_nights\"]\n",
    "limitesuperior4=r5.mean()+4*r5.std()\n",
    "limiteinferior4=r5.mean()-4*r5.std()\n",
    "print(\"Limite superior permitido\",limitesuperior4)\n",
    "print(\"Limite inferior permitido\",limiteinferior4)"
   ]
  },
  {
   "cell_type": "code",
   "execution_count": null,
   "metadata": {},
   "outputs": [],
   "source": [
    "#Identificación de Outliers\n",
    "outliers_minimum_n= copia [(r5>limitesuperior4) | (r5<limiteinferior4)]\n",
    "outliers_minimum_n"
   ]
  },
  {
   "cell_type": "code",
   "execution_count": null,
   "metadata": {},
   "outputs": [],
   "source": [
    "#Diagrama de caja: latitude.\n",
    "fig1 = plt.figure(figsize =(5, 3))\n",
    "plt.boxplot(copia[\"minimum_nights\"]) \n",
    "plt.title(\"Outliers de minimum_nights\")\n",
    "plt.show() #diagrama para visualizar outliers"
   ]
  },
  {
   "cell_type": "markdown",
   "metadata": {},
   "source": [
    "NUMBER OF REVIEWS"
   ]
  },
  {
   "cell_type": "code",
   "execution_count": 21,
   "metadata": {},
   "outputs": [
    {
     "name": "stdout",
     "output_type": "stream",
     "text": [
      "Limite superior permitido 256.32320597118996\n",
      "Limite inferior permitido -193.08696987353892\n"
     ]
    }
   ],
   "source": [
    "#Aplicar método de distribución normal para identificar Outliers, tomando como límites 3\n",
    "#desviaciones estándar, exclusivamente para la columna \"number_of_reviews\"\n",
    "r6=copia[\"number_of_reviews\"]\n",
    "limitesuperior5=r6.mean()+4*r6.std()\n",
    "limiteinferior5=r6.mean()-4*r6.std()\n",
    "print(\"Limite superior permitido\",limitesuperior5)\n",
    "print(\"Limite inferior permitido\",limiteinferior5)"
   ]
  },
  {
   "cell_type": "code",
   "execution_count": null,
   "metadata": {},
   "outputs": [],
   "source": [
    "#Identificación de Outliers\n",
    "outliers_number_reviews= copia [(r6>limitesuperior5) | (r6<limiteinferior5)]\n",
    "outliers_number_reviews"
   ]
  },
  {
   "cell_type": "code",
   "execution_count": null,
   "metadata": {},
   "outputs": [],
   "source": [
    "#Diagrama de caja: latitude.\n",
    "fig1 = plt.figure(figsize =(5, 3))\n",
    "plt.boxplot(copia[\"number_of_reviews\"]) \n",
    "plt.title(\"Outliers de number_of_reviews\")\n",
    "plt.show() #diagrama para visualizar outliers\n"
   ]
  },
  {
   "cell_type": "markdown",
   "metadata": {},
   "source": [
    "REVIEWS PER MONTH"
   ]
  },
  {
   "cell_type": "code",
   "execution_count": 24,
   "metadata": {},
   "outputs": [
    {
     "name": "stdout",
     "output_type": "stream",
     "text": [
      "Limite superior permitido 8.868489109921253\n",
      "Limite inferior permitido -5.691280193958356\n"
     ]
    }
   ],
   "source": [
    "#Aplicar método de distribución normal para identificar Outliers, tomando como límites 3\n",
    "#desviaciones estándar, exclusivamente para la columna \"reviews_per_month\"\n",
    "r7=copia[\"reviews_per_month\"]\n",
    "limitesuperior6=r7.mean()+4*r7.std()\n",
    "limiteinferior6=r7.mean()-4*r7.std()\n",
    "print(\"Limite superior permitido\",limitesuperior6)\n",
    "print(\"Limite inferior permitido\",limiteinferior6)"
   ]
  },
  {
   "cell_type": "code",
   "execution_count": null,
   "metadata": {},
   "outputs": [],
   "source": [
    "#Identificación de Outliers\n",
    "outliers_reviews_month= copia [(r7>limitesuperior6) | (r7<limiteinferior6)]\n",
    "outliers_reviews_month"
   ]
  },
  {
   "cell_type": "code",
   "execution_count": null,
   "metadata": {},
   "outputs": [],
   "source": [
    "#Diagrama de caja: latitude.\n",
    "fig1 = plt.figure(figsize =(5, 3))\n",
    "plt.boxplot(copia[\"reviews_per_month\"]) \n",
    "plt.title(\"Outliers de reviews_per_month\")\n",
    "plt.show() #diagrama para visualizar outliers"
   ]
  },
  {
   "cell_type": "markdown",
   "metadata": {},
   "source": [
    "AVAILABILITY 365"
   ]
  },
  {
   "cell_type": "code",
   "execution_count": 27,
   "metadata": {},
   "outputs": [
    {
     "name": "stdout",
     "output_type": "stream",
     "text": [
      "Limite superior permitido 612.4014586334399\n",
      "Limite inferior permitido -125.45042259116755\n"
     ]
    }
   ],
   "source": [
    "#Aplicar método de distribución normal para identificar Outliers, tomando como límites 3\n",
    "#desviaciones estándar, exclusivamente para la columna \"availability_365\"\n",
    "r8=copia[\"availability_365\"]\n",
    "limitesuperior7=r8.mean()+3*r8.std()\n",
    "limiteinferior7=r8.mean()-3*r8.std()\n",
    "print(\"Limite superior permitido\",limitesuperior7)\n",
    "print(\"Limite inferior permitido\",limiteinferior7)"
   ]
  },
  {
   "cell_type": "code",
   "execution_count": 28,
   "metadata": {},
   "outputs": [
    {
     "data": {
      "text/html": [
       "<div>\n",
       "<style scoped>\n",
       "    .dataframe tbody tr th:only-of-type {\n",
       "        vertical-align: middle;\n",
       "    }\n",
       "\n",
       "    .dataframe tbody tr th {\n",
       "        vertical-align: top;\n",
       "    }\n",
       "\n",
       "    .dataframe thead th {\n",
       "        text-align: right;\n",
       "    }\n",
       "</style>\n",
       "<table border=\"1\" class=\"dataframe\">\n",
       "  <thead>\n",
       "    <tr style=\"text-align: right;\">\n",
       "      <th></th>\n",
       "      <th>id</th>\n",
       "      <th>name</th>\n",
       "      <th>host_id</th>\n",
       "      <th>host_name</th>\n",
       "      <th>neighbourhood_group</th>\n",
       "      <th>neighbourhood</th>\n",
       "      <th>latitude</th>\n",
       "      <th>longitude</th>\n",
       "      <th>room_type</th>\n",
       "      <th>price</th>\n",
       "      <th>minimum_nights</th>\n",
       "      <th>number_of_reviews</th>\n",
       "      <th>last_review</th>\n",
       "      <th>reviews_per_month</th>\n",
       "      <th>calculated_host_listings_count</th>\n",
       "      <th>availability_365</th>\n",
       "      <th>number_of_reviews_ltm</th>\n",
       "    </tr>\n",
       "  </thead>\n",
       "  <tbody>\n",
       "    <tr>\n",
       "      <th>15</th>\n",
       "      <td>2056638.0</td>\n",
       "      <td>Amplio y luminoso loft en CoyoacÃ¡n</td>\n",
       "      <td>10531228</td>\n",
       "      <td>Maria</td>\n",
       "      <td>Desconocido</td>\n",
       "      <td>CoyoacÃ¡n</td>\n",
       "      <td>19.35353</td>\n",
       "      <td>-99.16299</td>\n",
       "      <td>Entire home/apt</td>\n",
       "      <td>1602.0</td>\n",
       "      <td>1.0</td>\n",
       "      <td>21.0</td>\n",
       "      <td>24/06/2018</td>\n",
       "      <td>0.2</td>\n",
       "      <td>3.0</td>\n",
       "      <td>1290.0</td>\n",
       "      <td>0.0</td>\n",
       "    </tr>\n",
       "  </tbody>\n",
       "</table>\n",
       "</div>"
      ],
      "text/plain": [
       "           id                                 name   host_id host_name  \\\n",
       "15  2056638.0  Amplio y luminoso loft en CoyoacÃ¡n  10531228     Maria   \n",
       "\n",
       "   neighbourhood_group neighbourhood  latitude  longitude        room_type  \\\n",
       "15         Desconocido     CoyoacÃ¡n  19.35353  -99.16299  Entire home/apt   \n",
       "\n",
       "     price  minimum_nights  number_of_reviews last_review  reviews_per_month  \\\n",
       "15  1602.0             1.0               21.0  24/06/2018                0.2   \n",
       "\n",
       "    calculated_host_listings_count  availability_365  number_of_reviews_ltm  \n",
       "15                             3.0            1290.0                    0.0  "
      ]
     },
     "execution_count": 28,
     "metadata": {},
     "output_type": "execute_result"
    }
   ],
   "source": [
    "#Identificación de Outliers\n",
    "outliers_reviews_month= copia [(r8>limitesuperior7) | (r8<limiteinferior7)]\n",
    "outliers_reviews_month"
   ]
  },
  {
   "cell_type": "code",
   "execution_count": null,
   "metadata": {},
   "outputs": [],
   "source": [
    "#Diagrama de caja: latitude.\n",
    "fig1 = plt.figure(figsize =(5, 3))\n",
    "plt.boxplot(copia[\"availability_365\"]) \n",
    "plt.title(\"Outliers de availability_365\")\n",
    "plt.show() #diagrama para visualizar outliers"
   ]
  },
  {
   "cell_type": "markdown",
   "metadata": {},
   "source": [
    "5. APLICAR MÉTODO DE RANGO INTERCUARTÍLICO PARA IDENTIFICAR OUTLIERS, TOMANDO COMO LÍMITES 1.5 IQR, PARA LAS MISMAS COLUMNAS REALIZAR UN ANÁLISI COMPARATIVO DE AMBOS RESULTADOS."
   ]
  },
  {
   "cell_type": "code",
   "execution_count": 37,
   "metadata": {},
   "outputs": [],
   "source": [
    "#copia2 para rango intercuartílico\n",
    "copia2=copia.copy()"
   ]
  },
  {
   "cell_type": "markdown",
   "metadata": {},
   "source": [
    "LATITUDE"
   ]
  },
  {
   "cell_type": "code",
   "execution_count": 40,
   "metadata": {},
   "outputs": [
    {
     "name": "stdout",
     "output_type": "stream",
     "text": [
      "Limite superior permitido 19.518043000000006\n",
      "Limite inferior permitido 19.293686999999995\n"
     ]
    }
   ],
   "source": [
    "#Variable: latitude.\n",
    "\n",
    "x2=copia2[\"latitude\"]\n",
    "\n",
    "p25x2=x2.quantile(0.25) #Q1\n",
    "p75x2=x2.quantile(0.75) #Q3\n",
    "iqrx2 = p75x2 - p25x2 #Q3-Q1\n",
    "\n",
    "LimiteSuperior_iqr_2 = p75x2 + 1.7*iqrx2\n",
    "LimiteInferior_iqr_2 = p25x2 - 1.7*iqrx2\n",
    "print(\"Limite superior permitido\", LimiteSuperior_iqr_2)\n",
    "print(\"Limite inferior permitido\", LimiteInferior_iqr_2)"
   ]
  },
  {
   "cell_type": "code",
   "execution_count": 41,
   "metadata": {},
   "outputs": [
    {
     "data": {
      "text/html": [
       "<div>\n",
       "<style scoped>\n",
       "    .dataframe tbody tr th:only-of-type {\n",
       "        vertical-align: middle;\n",
       "    }\n",
       "\n",
       "    .dataframe tbody tr th {\n",
       "        vertical-align: top;\n",
       "    }\n",
       "\n",
       "    .dataframe thead th {\n",
       "        text-align: right;\n",
       "    }\n",
       "</style>\n",
       "<table border=\"1\" class=\"dataframe\">\n",
       "  <thead>\n",
       "    <tr style=\"text-align: right;\">\n",
       "      <th></th>\n",
       "      <th>id</th>\n",
       "      <th>name</th>\n",
       "      <th>host_id</th>\n",
       "      <th>host_name</th>\n",
       "      <th>neighbourhood_group</th>\n",
       "      <th>neighbourhood</th>\n",
       "      <th>latitude</th>\n",
       "      <th>longitude</th>\n",
       "      <th>room_type</th>\n",
       "      <th>price</th>\n",
       "      <th>minimum_nights</th>\n",
       "      <th>number_of_reviews</th>\n",
       "      <th>last_review</th>\n",
       "      <th>reviews_per_month</th>\n",
       "      <th>calculated_host_listings_count</th>\n",
       "      <th>availability_365</th>\n",
       "      <th>number_of_reviews_ltm</th>\n",
       "    </tr>\n",
       "  </thead>\n",
       "  <tbody>\n",
       "    <tr>\n",
       "      <th>96</th>\n",
       "      <td>329776.0</td>\n",
       "      <td>HabitaciÃ³n Verde.</td>\n",
       "      <td>1683373</td>\n",
       "      <td>Miguel</td>\n",
       "      <td>Desconocido</td>\n",
       "      <td>Tlalpan</td>\n",
       "      <td>19.27510</td>\n",
       "      <td>-99.17757</td>\n",
       "      <td>Private room</td>\n",
       "      <td>303.0</td>\n",
       "      <td>2.0</td>\n",
       "      <td>16.0</td>\n",
       "      <td>25/12/2021</td>\n",
       "      <td>0.27</td>\n",
       "      <td>5.0</td>\n",
       "      <td>0.0</td>\n",
       "      <td>1.0</td>\n",
       "    </tr>\n",
       "    <tr>\n",
       "      <th>194</th>\n",
       "      <td>609594.0</td>\n",
       "      <td>House in Xochimilco</td>\n",
       "      <td>2223274</td>\n",
       "      <td>Luis</td>\n",
       "      <td>Desconocido</td>\n",
       "      <td>Xochimilco</td>\n",
       "      <td>19.26541</td>\n",
       "      <td>-99.11365</td>\n",
       "      <td>Entire home/apt</td>\n",
       "      <td>608.0</td>\n",
       "      <td>21.0</td>\n",
       "      <td>12.0</td>\n",
       "      <td>06/10/2020</td>\n",
       "      <td>0.14</td>\n",
       "      <td>1.0</td>\n",
       "      <td>325.0</td>\n",
       "      <td>0.0</td>\n",
       "    </tr>\n",
       "    <tr>\n",
       "      <th>206</th>\n",
       "      <td>1920070.0</td>\n",
       "      <td>Mountain Oasis surrender by trees</td>\n",
       "      <td>9953466</td>\n",
       "      <td>Gabriela</td>\n",
       "      <td>Desconocido</td>\n",
       "      <td>Tlalpan</td>\n",
       "      <td>19.24444</td>\n",
       "      <td>-99.17044</td>\n",
       "      <td>Private room</td>\n",
       "      <td>417.0</td>\n",
       "      <td>1.0</td>\n",
       "      <td>3.0</td>\n",
       "      <td>27/10/2019</td>\n",
       "      <td>0.05</td>\n",
       "      <td>1.0</td>\n",
       "      <td>365.0</td>\n",
       "      <td>0.0</td>\n",
       "    </tr>\n",
       "    <tr>\n",
       "      <th>213</th>\n",
       "      <td>1945351.0</td>\n",
       "      <td>Private room. Near COLMEX, UPN, FLACSO</td>\n",
       "      <td>340030</td>\n",
       "      <td>Griselda</td>\n",
       "      <td>Desconocido</td>\n",
       "      <td>Tlalpan</td>\n",
       "      <td>19.28356</td>\n",
       "      <td>-99.21837</td>\n",
       "      <td>Private room</td>\n",
       "      <td>608.0</td>\n",
       "      <td>3.0</td>\n",
       "      <td>2.0</td>\n",
       "      <td>26/01/2018</td>\n",
       "      <td>0.04</td>\n",
       "      <td>3.0</td>\n",
       "      <td>365.0</td>\n",
       "      <td>0.0</td>\n",
       "    </tr>\n",
       "    <tr>\n",
       "      <th>305</th>\n",
       "      <td>4519487.0</td>\n",
       "      <td>Recamara con entrada independiente</td>\n",
       "      <td>6604619</td>\n",
       "      <td>Tania</td>\n",
       "      <td>Desconocido</td>\n",
       "      <td>Tlalpan</td>\n",
       "      <td>19.26894</td>\n",
       "      <td>-99.17053</td>\n",
       "      <td>Private room</td>\n",
       "      <td>428.0</td>\n",
       "      <td>6.0</td>\n",
       "      <td>6.0</td>\n",
       "      <td>30/04/2021</td>\n",
       "      <td>0.08</td>\n",
       "      <td>2.0</td>\n",
       "      <td>365.0</td>\n",
       "      <td>0.0</td>\n",
       "    </tr>\n",
       "    <tr>\n",
       "      <th>...</th>\n",
       "      <td>...</td>\n",
       "      <td>...</td>\n",
       "      <td>...</td>\n",
       "      <td>...</td>\n",
       "      <td>...</td>\n",
       "      <td>...</td>\n",
       "      <td>...</td>\n",
       "      <td>...</td>\n",
       "      <td>...</td>\n",
       "      <td>...</td>\n",
       "      <td>...</td>\n",
       "      <td>...</td>\n",
       "      <td>...</td>\n",
       "      <td>...</td>\n",
       "      <td>...</td>\n",
       "      <td>...</td>\n",
       "      <td>...</td>\n",
       "    </tr>\n",
       "    <tr>\n",
       "      <th>21631</th>\n",
       "      <td>47965554.0</td>\n",
       "      <td>Casa RAUL CRUZ</td>\n",
       "      <td>386639818</td>\n",
       "      <td>Raul</td>\n",
       "      <td>Desconocido</td>\n",
       "      <td>Azcapotzalco</td>\n",
       "      <td>19.52080</td>\n",
       "      <td>-99.21918</td>\n",
       "      <td>Entire home/apt</td>\n",
       "      <td>250.0</td>\n",
       "      <td>1.0</td>\n",
       "      <td>0.0</td>\n",
       "      <td>31/12/2022</td>\n",
       "      <td>1.60</td>\n",
       "      <td>1.0</td>\n",
       "      <td>356.0</td>\n",
       "      <td>0.0</td>\n",
       "    </tr>\n",
       "    <tr>\n",
       "      <th>21633</th>\n",
       "      <td>52621697.0</td>\n",
       "      <td>Departamento nuevo y reciÃ©n amueblado enfrent...</td>\n",
       "      <td>21515326</td>\n",
       "      <td>Roberto</td>\n",
       "      <td>Desconocido</td>\n",
       "      <td>Azcapotzalco</td>\n",
       "      <td>19.52240</td>\n",
       "      <td>-99.22512</td>\n",
       "      <td>Entire home/apt</td>\n",
       "      <td>1000.0</td>\n",
       "      <td>1.0</td>\n",
       "      <td>32.0</td>\n",
       "      <td>29/04/2022</td>\n",
       "      <td>3.76</td>\n",
       "      <td>2.0</td>\n",
       "      <td>358.0</td>\n",
       "      <td>32.0</td>\n",
       "    </tr>\n",
       "    <tr>\n",
       "      <th>21636</th>\n",
       "      <td>38257741.0</td>\n",
       "      <td>Hospedaje Para 2 personas, en recamara privada.</td>\n",
       "      <td>215690013</td>\n",
       "      <td>David</td>\n",
       "      <td>Desconocido</td>\n",
       "      <td>Azcapotzalco</td>\n",
       "      <td>19.52869</td>\n",
       "      <td>-99.22087</td>\n",
       "      <td>Entire home/apt</td>\n",
       "      <td>432.0</td>\n",
       "      <td>2.0</td>\n",
       "      <td>4.0</td>\n",
       "      <td>26/11/2021</td>\n",
       "      <td>0.12</td>\n",
       "      <td>5.0</td>\n",
       "      <td>364.0</td>\n",
       "      <td>2.0</td>\n",
       "    </tr>\n",
       "    <tr>\n",
       "      <th>21638</th>\n",
       "      <td>52622073.0</td>\n",
       "      <td>Departamento Viveros del Lago.\\nEnfrente de la...</td>\n",
       "      <td>21515326</td>\n",
       "      <td>Roberto</td>\n",
       "      <td>Desconocido</td>\n",
       "      <td>Azcapotzalco</td>\n",
       "      <td>19.52295</td>\n",
       "      <td>-99.22571</td>\n",
       "      <td>Entire home/apt</td>\n",
       "      <td>1000.0</td>\n",
       "      <td>1.0</td>\n",
       "      <td>25.0</td>\n",
       "      <td>05/06/2022</td>\n",
       "      <td>2.92</td>\n",
       "      <td>2.0</td>\n",
       "      <td>334.0</td>\n",
       "      <td>25.0</td>\n",
       "    </tr>\n",
       "    <tr>\n",
       "      <th>21665</th>\n",
       "      <td>22107097.0</td>\n",
       "      <td>GREAT &amp; cozy flat in Satelite</td>\n",
       "      <td>387195495</td>\n",
       "      <td>Daniela</td>\n",
       "      <td>Desconocido</td>\n",
       "      <td>Azcapotzalco</td>\n",
       "      <td>119.50787</td>\n",
       "      <td>-99.22067</td>\n",
       "      <td>Entire home/apt</td>\n",
       "      <td>897.0</td>\n",
       "      <td>2.0</td>\n",
       "      <td>107.0</td>\n",
       "      <td>07/02/2022</td>\n",
       "      <td>1.97</td>\n",
       "      <td>11.0</td>\n",
       "      <td>314.0</td>\n",
       "      <td>17.0</td>\n",
       "    </tr>\n",
       "  </tbody>\n",
       "</table>\n",
       "<p>804 rows × 17 columns</p>\n",
       "</div>"
      ],
      "text/plain": [
       "               id                                               name  \\\n",
       "96       329776.0                                 HabitaciÃ³n Verde.   \n",
       "194      609594.0                                House in Xochimilco   \n",
       "206     1920070.0                  Mountain Oasis surrender by trees   \n",
       "213     1945351.0             Private room. Near COLMEX, UPN, FLACSO   \n",
       "305     4519487.0                 Recamara con entrada independiente   \n",
       "...           ...                                                ...   \n",
       "21631  47965554.0                                     Casa RAUL CRUZ   \n",
       "21633  52621697.0  Departamento nuevo y reciÃ©n amueblado enfrent...   \n",
       "21636  38257741.0    Hospedaje Para 2 personas, en recamara privada.   \n",
       "21638  52622073.0  Departamento Viveros del Lago.\\nEnfrente de la...   \n",
       "21665  22107097.0                      GREAT & cozy flat in Satelite   \n",
       "\n",
       "         host_id host_name neighbourhood_group neighbourhood   latitude  \\\n",
       "96       1683373    Miguel         Desconocido       Tlalpan   19.27510   \n",
       "194      2223274      Luis         Desconocido    Xochimilco   19.26541   \n",
       "206      9953466  Gabriela         Desconocido       Tlalpan   19.24444   \n",
       "213       340030  Griselda         Desconocido       Tlalpan   19.28356   \n",
       "305      6604619     Tania         Desconocido       Tlalpan   19.26894   \n",
       "...          ...       ...                 ...           ...        ...   \n",
       "21631  386639818      Raul         Desconocido  Azcapotzalco   19.52080   \n",
       "21633   21515326   Roberto         Desconocido  Azcapotzalco   19.52240   \n",
       "21636  215690013     David         Desconocido  Azcapotzalco   19.52869   \n",
       "21638   21515326   Roberto         Desconocido  Azcapotzalco   19.52295   \n",
       "21665  387195495   Daniela         Desconocido  Azcapotzalco  119.50787   \n",
       "\n",
       "       longitude        room_type   price  minimum_nights  number_of_reviews  \\\n",
       "96     -99.17757     Private room   303.0             2.0               16.0   \n",
       "194    -99.11365  Entire home/apt   608.0            21.0               12.0   \n",
       "206    -99.17044     Private room   417.0             1.0                3.0   \n",
       "213    -99.21837     Private room   608.0             3.0                2.0   \n",
       "305    -99.17053     Private room   428.0             6.0                6.0   \n",
       "...          ...              ...     ...             ...                ...   \n",
       "21631  -99.21918  Entire home/apt   250.0             1.0                0.0   \n",
       "21633  -99.22512  Entire home/apt  1000.0             1.0               32.0   \n",
       "21636  -99.22087  Entire home/apt   432.0             2.0                4.0   \n",
       "21638  -99.22571  Entire home/apt  1000.0             1.0               25.0   \n",
       "21665  -99.22067  Entire home/apt   897.0             2.0              107.0   \n",
       "\n",
       "      last_review  reviews_per_month  calculated_host_listings_count  \\\n",
       "96     25/12/2021               0.27                             5.0   \n",
       "194    06/10/2020               0.14                             1.0   \n",
       "206    27/10/2019               0.05                             1.0   \n",
       "213    26/01/2018               0.04                             3.0   \n",
       "305    30/04/2021               0.08                             2.0   \n",
       "...           ...                ...                             ...   \n",
       "21631  31/12/2022               1.60                             1.0   \n",
       "21633  29/04/2022               3.76                             2.0   \n",
       "21636  26/11/2021               0.12                             5.0   \n",
       "21638  05/06/2022               2.92                             2.0   \n",
       "21665  07/02/2022               1.97                            11.0   \n",
       "\n",
       "       availability_365  number_of_reviews_ltm  \n",
       "96                  0.0                    1.0  \n",
       "194               325.0                    0.0  \n",
       "206               365.0                    0.0  \n",
       "213               365.0                    0.0  \n",
       "305               365.0                    0.0  \n",
       "...                 ...                    ...  \n",
       "21631             356.0                    0.0  \n",
       "21633             358.0                   32.0  \n",
       "21636             364.0                    2.0  \n",
       "21638             334.0                   25.0  \n",
       "21665             314.0                   17.0  \n",
       "\n",
       "[804 rows x 17 columns]"
      ]
     },
     "execution_count": 41,
     "metadata": {},
     "output_type": "execute_result"
    }
   ],
   "source": [
    "#Identificación de Outliers\n",
    "otlrs_latitude_iqr= copia2 [(x2>LimiteSuperior_iqr_2) | (x2<LimiteInferior_iqr_2)]\n",
    "otlrs_latitude_iqr"
   ]
  },
  {
   "cell_type": "code",
   "execution_count": 39,
   "metadata": {},
   "outputs": [
    {
     "data": {
      "image/png": "[encoded data removed]",
      "text/plain": [
       "<Figure size 360x216 with 1 Axes>"
      ]
     },
     "metadata": {
      "needs_background": "light"
     },
     "output_type": "display_data"
    }
   ],
   "source": [
    "#Diagrama de caja: latitude.\n",
    "fig3 = plt.figure(figsize =(5, 3))\n",
    "plt.boxplot(copia2[\"latitude\"]) \n",
    "plt.title(\"Outliers de latitude\")\n",
    "plt.show() #diagrama para visualizar outliers"
   ]
  },
  {
   "cell_type": "code",
   "execution_count": null,
   "metadata": {},
   "outputs": [],
   "source": [
    "#Convertir los outliers en NA's\n",
    "data3=copia[(x7<=LimiteSuperior7)&(x7>=LimiteInferior7)]\n",
    "data3"
   ]
  },
  {
   "cell_type": "code",
   "execution_count": null,
   "metadata": {},
   "outputs": [],
   "source": [
    "#\"gnp_old\": sustituirlos por el promedio de la columna\n",
    "copia[\"gnp_old\"]=data3[\"gnp_old\"].fillna(round(copia[\"gnp_old\"].mean(),0))\n",
    "copia"
   ]
  },
  {
   "cell_type": "markdown",
   "metadata": {},
   "source": [
    "LONGITUDE"
   ]
  },
  {
   "cell_type": "code",
   "execution_count": null,
   "metadata": {},
   "outputs": [],
   "source": [
    "#Variable: latitude.\n",
    "\n",
    "x3=copia[\"latitude\"]\n",
    "\n",
    "p25x3=x3.quantile(0.25) #Q1\n",
    "p75x3=x3.quantile(0.75) #Q3\n",
    "iqrx3 = p75x3 - p25x3 #Q3-Q1\n",
    "\n",
    "LimiteSuperior_iqr_3 = p75x3 + 1.5*iqrx3\n",
    "LimiteInferior_iqr_3 = p25x3 - 1.5*iqrx3\n",
    "print(\"Limite superior permitido\", LimiteSuperior_iqr_3)\n",
    "print(\"Limite inferior permitido\", LimiteInferior_iqr_3)"
   ]
  },
  {
   "cell_type": "code",
   "execution_count": null,
   "metadata": {},
   "outputs": [],
   "source": [
    "#Identificación de Outliers\n",
    "otlrs_longitude_iqr= copia [(x3>LimiteSuperior_iqr_3) | (x3<LimiteInferior_iqr_3)]\n",
    "otlrs_longitude_iqr"
   ]
  },
  {
   "cell_type": "code",
   "execution_count": null,
   "metadata": {},
   "outputs": [],
   "source": [
    "#Diagrama de caja: longitude.\n",
    "fig3 = plt.figure(figsize =(5, 3))\n",
    "plt.boxplot(copia[\"longitude\"]) \n",
    "plt.title(\"Outliers de longitude\")\n",
    "plt.show() #diagrama para visualizar outliers"
   ]
  },
  {
   "cell_type": "markdown",
   "metadata": {},
   "source": [
    "PRICE"
   ]
  },
  {
   "cell_type": "code",
   "execution_count": null,
   "metadata": {},
   "outputs": [],
   "source": [
    "#Variable: price.\n",
    "\n",
    "x4=copia[\"price\"]\n",
    "\n",
    "p25x4=x4.quantile(0.25) #Q1\n",
    "p75x4=x4.quantile(0.75) #Q3\n",
    "iqrx4 = p75x4 - p25x4 #Q3-Q1\n",
    "\n",
    "LimiteSuperior_iqr_4 = p75x4 + 1.5*iqrx4\n",
    "LimiteInferior_iqr_4 = p25x4 - 1.5*iqrx4\n",
    "print(\"Limite superior permitido\", LimiteSuperior_iqr_4)\n",
    "print(\"Limite inferior permitido\", LimiteInferior_iqr_4)"
   ]
  },
  {
   "cell_type": "code",
   "execution_count": null,
   "metadata": {},
   "outputs": [],
   "source": [
    "#Identificación de Outliers\n",
    "otlrs_price_iqr= copia [(x4>LimiteSuperior_iqr_4) | (x4<LimiteInferior_iqr_4)]\n",
    "otlrs_price_iqr"
   ]
  },
  {
   "cell_type": "code",
   "execution_count": null,
   "metadata": {},
   "outputs": [],
   "source": [
    "#Diagrama de caja: price.\n",
    "fig3 = plt.figure(figsize =(5, 3))\n",
    "plt.boxplot(copia[\"price\"]) \n",
    "plt.title(\"Outliers de price\")\n",
    "plt.show() #diagrama para visualizar outliers"
   ]
  },
  {
   "cell_type": "markdown",
   "metadata": {},
   "source": [
    "MINIMUM NIGHTS"
   ]
  },
  {
   "cell_type": "code",
   "execution_count": null,
   "metadata": {},
   "outputs": [],
   "source": [
    "#Variable: minimum nigths.\n",
    "\n",
    "x5=copia[\"minimum_nigths\"]\n",
    "\n",
    "p25x5=x5.quantile(0.25) #Q1\n",
    "p75x5=x5.quantile(0.75) #Q3\n",
    "iqrx5 = p75x5 - p25x5 #Q3-Q1\n",
    "\n",
    "LimiteSuperior_iqr_5 = p75x5 + 1.5*iqrx5\n",
    "LimiteInferior_iqr_5 = p25x5 - 1.5*iqrx5\n",
    "print(\"Limite superior permitido\", LimiteSuperior_iqr_5)\n",
    "print(\"Limite inferior permitido\", LimiteInferior_iqr_5)"
   ]
  },
  {
   "cell_type": "code",
   "execution_count": null,
   "metadata": {},
   "outputs": [],
   "source": [
    "#Identificación de Outliers\n",
    "otlrs_minimum_n_iqr= copia [(x5>LimiteSuperior_iqr_5) | (x5<LimiteInferior_iqr_5)]\n",
    "otlrs_minimum_n_iqr"
   ]
  },
  {
   "cell_type": "code",
   "execution_count": null,
   "metadata": {},
   "outputs": [],
   "source": [
    "#Diagrama de caja: minimum_nigths.\n",
    "fig3 = plt.figure(figsize =(5, 3))\n",
    "plt.boxplot(copia[\"minimum_nigths\"]) \n",
    "plt.title(\"Outliers de minimum_nigths\")\n",
    "plt.show() #diagrama para visualizar outliers"
   ]
  },
  {
   "cell_type": "markdown",
   "metadata": {},
   "source": [
    "NUMBER OF REVIEWS"
   ]
  },
  {
   "cell_type": "code",
   "execution_count": null,
   "metadata": {},
   "outputs": [],
   "source": [
    "#Variable: number_of_reviews.\n",
    "\n",
    "x6=copia[\"number_of_reviews\"]\n",
    "\n",
    "p25x6=x6.quantile(0.25) #Q1\n",
    "p75x6=x6.quantile(0.75) #Q3\n",
    "iqrx6 = p75x6 - p25x6 #Q3-Q1\n",
    "\n",
    "LimiteSuperior_iqr_6 = p75x6 + 1.5*iqrx6\n",
    "LimiteInferior_iqr_6 = p25x6 - 1.5*iqrx6\n",
    "print(\"Limite superior permitido\", LimiteSuperior_iqr_6)\n",
    "print(\"Limite inferior permitido\", LimiteInferior_iqr_6)"
   ]
  },
  {
   "cell_type": "code",
   "execution_count": null,
   "metadata": {},
   "outputs": [],
   "source": [
    "#Identificación de Outliers\n",
    "otlrs_number_of_reviews_iqr= copia [(x6>LimiteSuperior_iqr_6) | (x6<LimiteInferior_iqr_6)]\n",
    "otlrs_number_of_reviews_iqr"
   ]
  },
  {
   "cell_type": "code",
   "execution_count": null,
   "metadata": {},
   "outputs": [],
   "source": [
    "#Diagrama de caja: number_of_reviews.\n",
    "fig3 = plt.figure(figsize =(5, 3))\n",
    "plt.boxplot(copia[\"number_of_reviews\"]) \n",
    "plt.title(\"Outliers de number_of_reviews\")\n",
    "plt.show() #diagrama para visualizar outliers"
   ]
  },
  {
   "cell_type": "markdown",
   "metadata": {},
   "source": [
    "REVIEWS PER MONTH"
   ]
  },
  {
   "cell_type": "code",
   "execution_count": null,
   "metadata": {},
   "outputs": [],
   "source": [
    "#Variable: reviews_per_month.\n",
    "\n",
    "x7=copia[\"reviews_per_month\"]\n",
    "\n",
    "p25x7=x7.quantile(0.25) #Q1\n",
    "p75x7=x7.quantile(0.75) #Q3\n",
    "iqrx7 = p75x7 - p25x7 #Q3-Q1\n",
    "\n",
    "LimiteSuperior_iqr_7 = p75x7 + 1.5*iqrx7\n",
    "LimiteInferior_iqr_7 = p25x7 - 1.5*iqrx7\n",
    "print(\"Limite superior permitido\", LimiteSuperior_iqr_7)\n",
    "print(\"Limite inferior permitido\", LimiteInferior_iqr_7)"
   ]
  },
  {
   "cell_type": "code",
   "execution_count": null,
   "metadata": {},
   "outputs": [],
   "source": [
    "#Identificación de Outliers\n",
    "otlrs_reviews_per_month_iqr= copia [(x7>LimiteSuperior_iqr_7) | (x7<LimiteInferior_iqr_7)]\n",
    "otlrs_reviews_per_month_iqr"
   ]
  },
  {
   "cell_type": "code",
   "execution_count": null,
   "metadata": {},
   "outputs": [],
   "source": [
    "#Diagrama de caja: reviews_per_month.\n",
    "fig3 = plt.figure(figsize =(5, 3))\n",
    "plt.boxplot(copia[\"reviews_per_month\"]) \n",
    "plt.title(\"Outliers de reviews_per_month\")\n",
    "plt.show() #diagrama para visualizar outliers"
   ]
  },
  {
   "cell_type": "markdown",
   "metadata": {},
   "source": [
    "AVAILABILITY 365"
   ]
  },
  {
   "cell_type": "code",
   "execution_count": null,
   "metadata": {},
   "outputs": [],
   "source": [
    "#Variable: availability_365.\n",
    "x8=copia[\"availability_365\"]\n",
    "\n",
    "p25x8=x8.quantile(0.25) #Q1\n",
    "p75x8=x8.quantile(0.75) #Q3\n",
    "iqrx8 = p75x8 - p25x8 #Q3-Q1\n",
    "\n",
    "LimiteSuperior_iqr_8 = p75x8 + 1.5*iqrx8\n",
    "LimiteInferior_iqr_8 = p25x8 - 1.5*iqrx8\n",
    "print(\"Limite superior permitido\", LimiteSuperior_iqr_7)\n",
    "print(\"Limite inferior permitido\", LimiteInferior_iqr_7)"
   ]
  },
  {
   "cell_type": "code",
   "execution_count": null,
   "metadata": {},
   "outputs": [],
   "source": [
    "#Identificación de Outliers\n",
    "otlrs_availability_365_iqr= copia [(x8>LimiteSuperior_iqr_8) | (x8<LimiteInferior_iqr_8)]\n",
    "otlrs_availability_365_iqr"
   ]
  },
  {
   "cell_type": "code",
   "execution_count": null,
   "metadata": {},
   "outputs": [],
   "source": [
    "#Diagrama de caja: availability_365.\n",
    "fig3 = plt.figure(figsize =(5, 3))\n",
    "plt.boxplot(copia[\"availability_365\"]) \n",
    "plt.title(\"Outliers de availability_365\")\n",
    "plt.show() #diagrama para visualizar outliers"
   ]
  }
 ],
 "metadata": {
  "kernelspec": {
   "display_name": "Python 3.10.6 64-bit",
   "language": "python",
   "name": "python3"
  },
  "language_info": {
   "codemirror_mode": {
    "name": "ipython",
    "version": 3
   },
   "file_extension": ".py",
   "mimetype": "text/x-python",
   "name": "python",
   "nbconvert_exporter": "python",
   "pygments_lexer": "ipython3",
   "version": "3.10.6"
  },
  "orig_nbformat": 4,
  "vscode": {
   "interpreter": {
    "hash": "aee8b7b246df8f9039afb4144a1f6fd8d2ca17a180786b69acc140d282b71a49"
   }
  }
 },
 "nbformat": 4,
 "nbformat_minor": 2
}
